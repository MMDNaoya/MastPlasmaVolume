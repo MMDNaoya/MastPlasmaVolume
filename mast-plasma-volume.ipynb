{
 "cells": [
  {
   "cell_type": "markdown",
   "id": "a4347b6b",
   "metadata": {
    "papermill": {
     "duration": 0.00933,
     "end_time": "2024-12-13T22:45:41.726629",
     "exception": false,
     "start_time": "2024-12-13T22:45:41.717299",
     "status": "completed"
    },
    "tags": []
   },
   "source": [
    "(Note) This notebook may do not reproduce the submitted solution. This is due to my insufficient knowledge of Kaggle notebooks, which led to the loss of the exact state at the time of submission.\n",
    "\n",
    "This competition involved a very unique task: estimating the volume of plasma from its images. Due to strict time and computational constraints, the analysis here is far from comprehensive, but I will document my thoughts and experiments.\n",
    "\n",
    "For this task, I attempted the following methods to create input data for the regression model:\n",
    "(1) Compressing all images using PCA\n",
    "(2) Extracting texture features from all images\n",
    "(3) Extracting features using a pre-trained CNN\n",
    "\n",
    "Methods (2) and (3) were abandoned because they performed poorly during cross-validation using the training data.\n",
    "\n",
    "Regarding (2), it is likely that the critical factors characterizing plasma volume are related more to the shape of the plasma than its texture, which might explain why texture features were not useful.\n",
    "\n",
    "Regarding (3), one notable characteristic of the dataset is that the images were captured from a strictly fixed camera. Thus, the translational and scale invariance of CNNs may not have been beneficial in this case. Additionally, the ResNet50 CNN used here extracts 2048-dimensional features from each image. This dimensionality may have been too large relative to the size of the dataset, potentially hindering effective training. It may be worth exploring whether compressing the features extracted by the CNN using PCA or other methods and then applying a regression model could improve performance.\n",
    "\n",
    "The reason (1) worked effectively is likely because the camera was strictly fixed, which suggests that the generalization performance to other fusion experiment facilities may be poor. However, it seems to have performed well on the current dataset. PCA, FastICA, and KernelICA were applied for dimensionality reduction, followed by the application of Linear Regression, Support Vector Machine, Random Forest Regression, and K-Nearest Neighbor.\n",
    "\n",
    "In this competition, standard PCA (32 components) combined with Random Forest Regression proved effective. However, ensemble inference may improve performance further.\n",
    "Why standard PCA and Random Forest did work is not investigated, but it may be solely by chance."
   ]
  },
  {
   "cell_type": "code",
   "execution_count": 1,
   "id": "6168bf3f",
   "metadata": {
    "_cell_guid": "b1076dfc-b9ad-4769-8c92-a6c4dae69d19",
    "_uuid": "8f2839f25d086af736a60e9eeb907d3b93b6e0e5",
    "execution": {
     "iopub.execute_input": "2024-12-13T22:45:41.740811Z",
     "iopub.status.busy": "2024-12-13T22:45:41.740310Z",
     "iopub.status.idle": "2024-12-13T22:45:42.673407Z",
     "shell.execute_reply": "2024-12-13T22:45:42.672322Z"
    },
    "papermill": {
     "duration": 0.94299,
     "end_time": "2024-12-13T22:45:42.675936",
     "exception": false,
     "start_time": "2024-12-13T22:45:41.732946",
     "status": "completed"
    },
    "tags": []
   },
   "outputs": [
    {
     "name": "stdout",
     "output_type": "stream",
     "text": [
      "/kaggle/input/mast-plasma-volume/train.nc\n",
      "/kaggle/input/mast-plasma-volume/test.nc\n"
     ]
    }
   ],
   "source": [
    "# This Python 3 environment comes with many helpful analytics libraries installed\n",
    "# It is defined by the kaggle/python Docker image: https://github.com/kaggle/docker-python\n",
    "# For example, here's several helpful packages to load\n",
    "\n",
    "import numpy as np # linear algebra\n",
    "import pandas as pd # data processing, CSV file I/O (e.g. pd.read_csv)\n",
    "\n",
    "# Input data files are available in the read-only \"../input/\" directory\n",
    "# For example, running this (by clicking run or pressing Shift+Enter) will list all files under the input directory\n",
    "\n",
    "import os\n",
    "for dirname, _, filenames in os.walk('/kaggle/input'):\n",
    "    for filename in filenames:\n",
    "        print(os.path.join(dirname, filename))\n",
    "\n",
    "# You can write up to 20GB to the current directory (/kaggle/working/) that gets preserved as output when you create a version using \"Save & Run All\" \n",
    "# You can also write temporary files to /kaggle/temp/, but they won't be saved outside of the current session"
   ]
  },
  {
   "cell_type": "code",
   "execution_count": 2,
   "id": "14193f27",
   "metadata": {
    "execution": {
     "iopub.execute_input": "2024-12-13T22:45:42.692400Z",
     "iopub.status.busy": "2024-12-13T22:45:42.691796Z",
     "iopub.status.idle": "2024-12-13T22:45:45.648306Z",
     "shell.execute_reply": "2024-12-13T22:45:45.647052Z"
    },
    "papermill": {
     "duration": 2.968668,
     "end_time": "2024-12-13T22:45:45.651121",
     "exception": false,
     "start_time": "2024-12-13T22:45:42.682453",
     "status": "completed"
    },
    "tags": []
   },
   "outputs": [],
   "source": [
    "import pathlib\n",
    "\n",
    "import appdirs\n",
    "import matplotlib.pyplot as plt\n",
    "import pandas as pd\n",
    "import seaborn as sns\n",
    "import sklearn.decomposition\n",
    "import sklearn.ensemble\n",
    "import sklearn.kernel_ridge\n",
    "import sklearn.metrics\n",
    "import sklearn.model_selection\n",
    "import sklearn.pipeline\n",
    "import sklearn.preprocessing\n",
    "import sklearn.model_selection\n",
    "from sklearn.decomposition import *\n",
    "import xarray as xr\n",
    "\n",
    "path = pathlib.Path(\"/kaggle/input/mast-plasma-volume\")\n",
    "train = xr.open_dataset(path / \"train.nc\")\n",
    "test = xr.open_dataset(path / \"test.nc\")"
   ]
  },
  {
   "cell_type": "code",
   "execution_count": 3,
   "id": "101de92f",
   "metadata": {
    "execution": {
     "iopub.execute_input": "2024-12-13T22:45:45.667300Z",
     "iopub.status.busy": "2024-12-13T22:45:45.666432Z",
     "iopub.status.idle": "2024-12-13T22:46:08.719097Z",
     "shell.execute_reply": "2024-12-13T22:46:08.717398Z"
    },
    "papermill": {
     "duration": 23.064167,
     "end_time": "2024-12-13T22:46:08.722050",
     "exception": false,
     "start_time": "2024-12-13T22:45:45.657883",
     "status": "completed"
    },
    "tags": []
   },
   "outputs": [],
   "source": [
    "!pip install ripser pyfeats scikit-neuralnetwork --quiet"
   ]
  },
  {
   "cell_type": "code",
   "execution_count": 4,
   "id": "4ebc6508",
   "metadata": {
    "execution": {
     "iopub.execute_input": "2024-12-13T22:46:08.737038Z",
     "iopub.status.busy": "2024-12-13T22:46:08.736537Z",
     "iopub.status.idle": "2024-12-13T22:46:08.884671Z",
     "shell.execute_reply": "2024-12-13T22:46:08.883432Z"
    },
    "papermill": {
     "duration": 0.159057,
     "end_time": "2024-12-13T22:46:08.887406",
     "exception": false,
     "start_time": "2024-12-13T22:46:08.728349",
     "status": "completed"
    },
    "tags": []
   },
   "outputs": [],
   "source": [
    "from persim import plot_diagrams\n",
    "from ripser import ripser\n",
    "from skimage import feature as sk_feature"
   ]
  },
  {
   "cell_type": "code",
   "execution_count": 5,
   "id": "2a5958c8",
   "metadata": {
    "execution": {
     "iopub.execute_input": "2024-12-13T22:46:08.902751Z",
     "iopub.status.busy": "2024-12-13T22:46:08.901635Z",
     "iopub.status.idle": "2024-12-13T22:46:15.702825Z",
     "shell.execute_reply": "2024-12-13T22:46:15.701455Z"
    },
    "papermill": {
     "duration": 6.811788,
     "end_time": "2024-12-13T22:46:15.705717",
     "exception": false,
     "start_time": "2024-12-13T22:46:08.893929",
     "status": "completed"
    },
    "tags": []
   },
   "outputs": [],
   "source": [
    "train_images = [np.resize(np.array(train['frame'][i]), (256, 256)) for i in range(609)]\n",
    "train_images_raw = [np.array(train['frame'][i]) for i in range(609)]\n",
    "train_y = np.array(train.plasma_volume)"
   ]
  },
  {
   "cell_type": "code",
   "execution_count": 6,
   "id": "dec635b3",
   "metadata": {
    "execution": {
     "iopub.execute_input": "2024-12-13T22:46:15.720924Z",
     "iopub.status.busy": "2024-12-13T22:46:15.720458Z",
     "iopub.status.idle": "2024-12-13T22:46:17.790668Z",
     "shell.execute_reply": "2024-12-13T22:46:17.789722Z"
    },
    "papermill": {
     "duration": 2.080767,
     "end_time": "2024-12-13T22:46:17.793377",
     "exception": false,
     "start_time": "2024-12-13T22:46:15.712610",
     "status": "completed"
    },
    "tags": []
   },
   "outputs": [],
   "source": [
    "test_images = np.array([np.array(test['frame'][i]) for i in range(260)])"
   ]
  },
  {
   "cell_type": "code",
   "execution_count": 7,
   "id": "f1e568a6",
   "metadata": {
    "execution": {
     "iopub.execute_input": "2024-12-13T22:46:17.809090Z",
     "iopub.status.busy": "2024-12-13T22:46:17.808300Z",
     "iopub.status.idle": "2024-12-13T22:46:17.998316Z",
     "shell.execute_reply": "2024-12-13T22:46:17.997106Z"
    },
    "papermill": {
     "duration": 0.201749,
     "end_time": "2024-12-13T22:46:18.001906",
     "exception": false,
     "start_time": "2024-12-13T22:46:17.800157",
     "status": "completed"
    },
    "tags": []
   },
   "outputs": [],
   "source": [
    "from sklearn.linear_model import LinearRegression\n",
    "from sklearn.svm import SVR\n",
    "from xgboost import XGBRegressor\n",
    "from sklearn.model_selection import cross_val_score "
   ]
  },
  {
   "cell_type": "code",
   "execution_count": 8,
   "id": "3f7c6db7",
   "metadata": {
    "execution": {
     "iopub.execute_input": "2024-12-13T22:46:18.017314Z",
     "iopub.status.busy": "2024-12-13T22:46:18.016841Z",
     "iopub.status.idle": "2024-12-13T22:46:18.714099Z",
     "shell.execute_reply": "2024-12-13T22:46:18.713008Z"
    },
    "papermill": {
     "duration": 0.707903,
     "end_time": "2024-12-13T22:46:18.716746",
     "exception": false,
     "start_time": "2024-12-13T22:46:18.008843",
     "status": "completed"
    },
    "tags": []
   },
   "outputs": [],
   "source": [
    "import pyfeats"
   ]
  },
  {
   "cell_type": "code",
   "execution_count": 9,
   "id": "5b0899c1",
   "metadata": {
    "execution": {
     "iopub.execute_input": "2024-12-13T22:46:18.732134Z",
     "iopub.status.busy": "2024-12-13T22:46:18.731264Z",
     "iopub.status.idle": "2024-12-13T22:46:18.739759Z",
     "shell.execute_reply": "2024-12-13T22:46:18.738540Z"
    },
    "papermill": {
     "duration": 0.0187,
     "end_time": "2024-12-13T22:46:18.742094",
     "exception": false,
     "start_time": "2024-12-13T22:46:18.723394",
     "status": "completed"
    },
    "tags": []
   },
   "outputs": [],
   "source": [
    "def get_image_feat(image):\n",
    "    feats_ls, labels_ls = [], []\n",
    "    f1, f2, l1, l2 = pyfeats.glcm_features(image)\n",
    "    feats_ls.extend(f1 + f2)\n",
    "    labels_ls.extend(l1 + l2)\n",
    "    pdf, cdf = pyfeats.grayscale_morphology_features(image, N=6)\n",
    "    feats_ls.extend(list(pdf) + list(cdf))\n",
    "    labels_ls.extend([f\"gmf_pdf_{i}\" for i in range(len(cdf))] + [f\"gmf_cdf_{i}\" for i in range(6)])\n",
    "    f, l = pyfeats.hu_moments(image)\n",
    "    feats_ls.extend(list(f))\n",
    "    labels_ls.extend(list(l))\n",
    "    return feats_ls, labels_ls"
   ]
  },
  {
   "cell_type": "code",
   "execution_count": 10,
   "id": "4a0a59ca",
   "metadata": {
    "execution": {
     "iopub.execute_input": "2024-12-13T22:46:18.757147Z",
     "iopub.status.busy": "2024-12-13T22:46:18.756666Z",
     "iopub.status.idle": "2024-12-13T22:48:17.582259Z",
     "shell.execute_reply": "2024-12-13T22:48:17.580820Z"
    },
    "papermill": {
     "duration": 118.836542,
     "end_time": "2024-12-13T22:48:17.585242",
     "exception": false,
     "start_time": "2024-12-13T22:46:18.748700",
     "status": "completed"
    },
    "tags": []
   },
   "outputs": [],
   "source": [
    "tmp = [get_image_feat(train_image) for train_image in train_images]\n",
    "train_feats = [t[0] for t in tmp]\n",
    "feat_names = tmp[0][1]"
   ]
  },
  {
   "cell_type": "code",
   "execution_count": 11,
   "id": "96567894",
   "metadata": {
    "execution": {
     "iopub.execute_input": "2024-12-13T22:48:17.599924Z",
     "iopub.status.busy": "2024-12-13T22:48:17.599401Z",
     "iopub.status.idle": "2024-12-13T22:48:17.610103Z",
     "shell.execute_reply": "2024-12-13T22:48:17.608847Z"
    },
    "papermill": {
     "duration": 0.02106,
     "end_time": "2024-12-13T22:48:17.612698",
     "exception": false,
     "start_time": "2024-12-13T22:48:17.591638",
     "status": "completed"
    },
    "tags": []
   },
   "outputs": [],
   "source": [
    "train_X = np.array(train_feats)\n",
    "from sklearn.preprocessing import StandardScaler\n",
    "\n",
    "standard_scaler = StandardScaler()\n",
    "train_X_ = standard_scaler.fit_transform(train_X)"
   ]
  },
  {
   "cell_type": "code",
   "execution_count": 12,
   "id": "429dad1e",
   "metadata": {
    "execution": {
     "iopub.execute_input": "2024-12-13T22:48:17.627639Z",
     "iopub.status.busy": "2024-12-13T22:48:17.627218Z",
     "iopub.status.idle": "2024-12-13T22:48:25.539753Z",
     "shell.execute_reply": "2024-12-13T22:48:25.538845Z"
    },
    "papermill": {
     "duration": 7.92297,
     "end_time": "2024-12-13T22:48:25.542291",
     "exception": false,
     "start_time": "2024-12-13T22:48:17.619321",
     "status": "completed"
    },
    "tags": []
   },
   "outputs": [
    {
     "name": "stdout",
     "output_type": "stream",
     "text": [
      "[0.27785906 0.18415027 0.29756476 0.44784071 0.2741435 ]\n",
      "[ 0.49764081 -0.10480112  0.34669294  0.624867    0.28189469]\n",
      "[0.46980869 0.20192377 0.68203589 0.76950454 0.3651174 ]\n",
      "[0.34000227 0.28527663 0.4499328  0.51174406 0.1772999 ]\n"
     ]
    }
   ],
   "source": [
    "from sklearn.neighbors import KNeighborsRegressor\n",
    "from sklearn.ensemble import RandomForestRegressor\n",
    "for model in (SVR(), XGBRegressor(), RandomForestRegressor(), KNeighborsRegressor()):\n",
    "    print(cross_val_score(model, train_X_, train_y, scoring=\"r2\"))"
   ]
  },
  {
   "cell_type": "code",
   "execution_count": 13,
   "id": "2dc361a2",
   "metadata": {
    "execution": {
     "iopub.execute_input": "2024-12-13T22:48:25.560383Z",
     "iopub.status.busy": "2024-12-13T22:48:25.559979Z",
     "iopub.status.idle": "2024-12-13T22:51:15.914831Z",
     "shell.execute_reply": "2024-12-13T22:51:15.913364Z"
    },
    "papermill": {
     "duration": 170.373628,
     "end_time": "2024-12-13T22:51:15.924374",
     "exception": false,
     "start_time": "2024-12-13T22:48:25.550746",
     "status": "completed"
    },
    "tags": []
   },
   "outputs": [
    {
     "data": {
      "text/html": [
       "<style>#sk-container-id-1 {color: black;background-color: white;}#sk-container-id-1 pre{padding: 0;}#sk-container-id-1 div.sk-toggleable {background-color: white;}#sk-container-id-1 label.sk-toggleable__label {cursor: pointer;display: block;width: 100%;margin-bottom: 0;padding: 0.3em;box-sizing: border-box;text-align: center;}#sk-container-id-1 label.sk-toggleable__label-arrow:before {content: \"▸\";float: left;margin-right: 0.25em;color: #696969;}#sk-container-id-1 label.sk-toggleable__label-arrow:hover:before {color: black;}#sk-container-id-1 div.sk-estimator:hover label.sk-toggleable__label-arrow:before {color: black;}#sk-container-id-1 div.sk-toggleable__content {max-height: 0;max-width: 0;overflow: hidden;text-align: left;background-color: #f0f8ff;}#sk-container-id-1 div.sk-toggleable__content pre {margin: 0.2em;color: black;border-radius: 0.25em;background-color: #f0f8ff;}#sk-container-id-1 input.sk-toggleable__control:checked~div.sk-toggleable__content {max-height: 200px;max-width: 100%;overflow: auto;}#sk-container-id-1 input.sk-toggleable__control:checked~label.sk-toggleable__label-arrow:before {content: \"▾\";}#sk-container-id-1 div.sk-estimator input.sk-toggleable__control:checked~label.sk-toggleable__label {background-color: #d4ebff;}#sk-container-id-1 div.sk-label input.sk-toggleable__control:checked~label.sk-toggleable__label {background-color: #d4ebff;}#sk-container-id-1 input.sk-hidden--visually {border: 0;clip: rect(1px 1px 1px 1px);clip: rect(1px, 1px, 1px, 1px);height: 1px;margin: -1px;overflow: hidden;padding: 0;position: absolute;width: 1px;}#sk-container-id-1 div.sk-estimator {font-family: monospace;background-color: #f0f8ff;border: 1px dotted black;border-radius: 0.25em;box-sizing: border-box;margin-bottom: 0.5em;}#sk-container-id-1 div.sk-estimator:hover {background-color: #d4ebff;}#sk-container-id-1 div.sk-parallel-item::after {content: \"\";width: 100%;border-bottom: 1px solid gray;flex-grow: 1;}#sk-container-id-1 div.sk-label:hover label.sk-toggleable__label {background-color: #d4ebff;}#sk-container-id-1 div.sk-serial::before {content: \"\";position: absolute;border-left: 1px solid gray;box-sizing: border-box;top: 0;bottom: 0;left: 50%;z-index: 0;}#sk-container-id-1 div.sk-serial {display: flex;flex-direction: column;align-items: center;background-color: white;padding-right: 0.2em;padding-left: 0.2em;position: relative;}#sk-container-id-1 div.sk-item {position: relative;z-index: 1;}#sk-container-id-1 div.sk-parallel {display: flex;align-items: stretch;justify-content: center;background-color: white;position: relative;}#sk-container-id-1 div.sk-item::before, #sk-container-id-1 div.sk-parallel-item::before {content: \"\";position: absolute;border-left: 1px solid gray;box-sizing: border-box;top: 0;bottom: 0;left: 50%;z-index: -1;}#sk-container-id-1 div.sk-parallel-item {display: flex;flex-direction: column;z-index: 1;position: relative;background-color: white;}#sk-container-id-1 div.sk-parallel-item:first-child::after {align-self: flex-end;width: 50%;}#sk-container-id-1 div.sk-parallel-item:last-child::after {align-self: flex-start;width: 50%;}#sk-container-id-1 div.sk-parallel-item:only-child::after {width: 0;}#sk-container-id-1 div.sk-dashed-wrapped {border: 1px dashed gray;margin: 0 0.4em 0.5em 0.4em;box-sizing: border-box;padding-bottom: 0.4em;background-color: white;}#sk-container-id-1 div.sk-label label {font-family: monospace;font-weight: bold;display: inline-block;line-height: 1.2em;}#sk-container-id-1 div.sk-label-container {text-align: center;}#sk-container-id-1 div.sk-container {/* jupyter's `normalize.less` sets `[hidden] { display: none; }` but bootstrap.min.css set `[hidden] { display: none !important; }` so we also need the `!important` here to be able to override the default hidden behavior on the sphinx rendered scikit-learn.org. See: https://github.com/scikit-learn/scikit-learn/issues/21755 */display: inline-block !important;position: relative;}#sk-container-id-1 div.sk-text-repr-fallback {display: none;}</style><div id=\"sk-container-id-1\" class=\"sk-top-container\"><div class=\"sk-text-repr-fallback\"><pre>SequentialFeatureSelector(estimator=XGBRegressor(base_score=None, booster=None,\n",
       "                                                 callbacks=None,\n",
       "                                                 colsample_bylevel=None,\n",
       "                                                 colsample_bynode=None,\n",
       "                                                 colsample_bytree=None,\n",
       "                                                 device=None,\n",
       "                                                 early_stopping_rounds=None,\n",
       "                                                 enable_categorical=False,\n",
       "                                                 eval_metric=None,\n",
       "                                                 feature_types=None, gamma=None,\n",
       "                                                 grow_policy=None,\n",
       "                                                 importance_type=None,\n",
       "                                                 interaction_constraints=None,\n",
       "                                                 learning_rate=None,\n",
       "                                                 max_bin=None,\n",
       "                                                 max_cat_threshold=None,\n",
       "                                                 max_cat_to_onehot=None,\n",
       "                                                 max_delta_step=None,\n",
       "                                                 max_depth=None,\n",
       "                                                 max_leaves=None,\n",
       "                                                 min_child_weight=None,\n",
       "                                                 missing=nan,\n",
       "                                                 monotone_constraints=None,\n",
       "                                                 multi_strategy=None,\n",
       "                                                 n_estimators=None, n_jobs=None,\n",
       "                                                 num_parallel_tree=None,\n",
       "                                                 random_state=None, ...),\n",
       "                          n_features_to_select=10, scoring=&#x27;r2&#x27;)</pre><b>In a Jupyter environment, please rerun this cell to show the HTML representation or trust the notebook. <br />On GitHub, the HTML representation is unable to render, please try loading this page with nbviewer.org.</b></div><div class=\"sk-container\" hidden><div class=\"sk-item sk-dashed-wrapped\"><div class=\"sk-label-container\"><div class=\"sk-label sk-toggleable\"><input class=\"sk-toggleable__control sk-hidden--visually\" id=\"sk-estimator-id-1\" type=\"checkbox\" ><label for=\"sk-estimator-id-1\" class=\"sk-toggleable__label sk-toggleable__label-arrow\">SequentialFeatureSelector</label><div class=\"sk-toggleable__content\"><pre>SequentialFeatureSelector(estimator=XGBRegressor(base_score=None, booster=None,\n",
       "                                                 callbacks=None,\n",
       "                                                 colsample_bylevel=None,\n",
       "                                                 colsample_bynode=None,\n",
       "                                                 colsample_bytree=None,\n",
       "                                                 device=None,\n",
       "                                                 early_stopping_rounds=None,\n",
       "                                                 enable_categorical=False,\n",
       "                                                 eval_metric=None,\n",
       "                                                 feature_types=None, gamma=None,\n",
       "                                                 grow_policy=None,\n",
       "                                                 importance_type=None,\n",
       "                                                 interaction_constraints=None,\n",
       "                                                 learning_rate=None,\n",
       "                                                 max_bin=None,\n",
       "                                                 max_cat_threshold=None,\n",
       "                                                 max_cat_to_onehot=None,\n",
       "                                                 max_delta_step=None,\n",
       "                                                 max_depth=None,\n",
       "                                                 max_leaves=None,\n",
       "                                                 min_child_weight=None,\n",
       "                                                 missing=nan,\n",
       "                                                 monotone_constraints=None,\n",
       "                                                 multi_strategy=None,\n",
       "                                                 n_estimators=None, n_jobs=None,\n",
       "                                                 num_parallel_tree=None,\n",
       "                                                 random_state=None, ...),\n",
       "                          n_features_to_select=10, scoring=&#x27;r2&#x27;)</pre></div></div></div><div class=\"sk-parallel\"><div class=\"sk-parallel-item\"><div class=\"sk-item\"><div class=\"sk-label-container\"><div class=\"sk-label sk-toggleable\"><input class=\"sk-toggleable__control sk-hidden--visually\" id=\"sk-estimator-id-2\" type=\"checkbox\" ><label for=\"sk-estimator-id-2\" class=\"sk-toggleable__label sk-toggleable__label-arrow\">estimator: XGBRegressor</label><div class=\"sk-toggleable__content\"><pre>XGBRegressor(base_score=None, booster=None, callbacks=None,\n",
       "             colsample_bylevel=None, colsample_bynode=None,\n",
       "             colsample_bytree=None, device=None, early_stopping_rounds=None,\n",
       "             enable_categorical=False, eval_metric=None, feature_types=None,\n",
       "             gamma=None, grow_policy=None, importance_type=None,\n",
       "             interaction_constraints=None, learning_rate=None, max_bin=None,\n",
       "             max_cat_threshold=None, max_cat_to_onehot=None,\n",
       "             max_delta_step=None, max_depth=None, max_leaves=None,\n",
       "             min_child_weight=None, missing=nan, monotone_constraints=None,\n",
       "             multi_strategy=None, n_estimators=None, n_jobs=None,\n",
       "             num_parallel_tree=None, random_state=None, ...)</pre></div></div></div><div class=\"sk-serial\"><div class=\"sk-item\"><div class=\"sk-estimator sk-toggleable\"><input class=\"sk-toggleable__control sk-hidden--visually\" id=\"sk-estimator-id-3\" type=\"checkbox\" ><label for=\"sk-estimator-id-3\" class=\"sk-toggleable__label sk-toggleable__label-arrow\">XGBRegressor</label><div class=\"sk-toggleable__content\"><pre>XGBRegressor(base_score=None, booster=None, callbacks=None,\n",
       "             colsample_bylevel=None, colsample_bynode=None,\n",
       "             colsample_bytree=None, device=None, early_stopping_rounds=None,\n",
       "             enable_categorical=False, eval_metric=None, feature_types=None,\n",
       "             gamma=None, grow_policy=None, importance_type=None,\n",
       "             interaction_constraints=None, learning_rate=None, max_bin=None,\n",
       "             max_cat_threshold=None, max_cat_to_onehot=None,\n",
       "             max_delta_step=None, max_depth=None, max_leaves=None,\n",
       "             min_child_weight=None, missing=nan, monotone_constraints=None,\n",
       "             multi_strategy=None, n_estimators=None, n_jobs=None,\n",
       "             num_parallel_tree=None, random_state=None, ...)</pre></div></div></div></div></div></div></div></div></div></div>"
      ],
      "text/plain": [
       "SequentialFeatureSelector(estimator=XGBRegressor(base_score=None, booster=None,\n",
       "                                                 callbacks=None,\n",
       "                                                 colsample_bylevel=None,\n",
       "                                                 colsample_bynode=None,\n",
       "                                                 colsample_bytree=None,\n",
       "                                                 device=None,\n",
       "                                                 early_stopping_rounds=None,\n",
       "                                                 enable_categorical=False,\n",
       "                                                 eval_metric=None,\n",
       "                                                 feature_types=None, gamma=None,\n",
       "                                                 grow_policy=None,\n",
       "                                                 importance_type=None,\n",
       "                                                 interaction_constraints=None,\n",
       "                                                 learning_rate=None,\n",
       "                                                 max_bin=None,\n",
       "                                                 max_cat_threshold=None,\n",
       "                                                 max_cat_to_onehot=None,\n",
       "                                                 max_delta_step=None,\n",
       "                                                 max_depth=None,\n",
       "                                                 max_leaves=None,\n",
       "                                                 min_child_weight=None,\n",
       "                                                 missing=nan,\n",
       "                                                 monotone_constraints=None,\n",
       "                                                 multi_strategy=None,\n",
       "                                                 n_estimators=None, n_jobs=None,\n",
       "                                                 num_parallel_tree=None,\n",
       "                                                 random_state=None, ...),\n",
       "                          n_features_to_select=10, scoring='r2')"
      ]
     },
     "execution_count": 13,
     "metadata": {},
     "output_type": "execute_result"
    }
   ],
   "source": [
    "from sklearn.feature_selection import SelectFromModel, SequentialFeatureSelector\n",
    "sfs = SequentialFeatureSelector(XGBRegressor(), scoring=\"r2\", n_features_to_select=10)\n",
    "sfs.fit(train_X_, train_y)"
   ]
  },
  {
   "cell_type": "code",
   "execution_count": 14,
   "id": "4f10ffc6",
   "metadata": {
    "execution": {
     "iopub.execute_input": "2024-12-13T22:51:15.940080Z",
     "iopub.status.busy": "2024-12-13T22:51:15.939690Z",
     "iopub.status.idle": "2024-12-13T22:51:15.945290Z",
     "shell.execute_reply": "2024-12-13T22:51:15.944099Z"
    },
    "papermill": {
     "duration": 0.016208,
     "end_time": "2024-12-13T22:51:15.947437",
     "exception": false,
     "start_time": "2024-12-13T22:51:15.931229",
     "status": "completed"
    },
    "tags": []
   },
   "outputs": [],
   "source": [
    "from sklearn.decomposition import PCA, SparsePCA, KernelPCA"
   ]
  },
  {
   "cell_type": "code",
   "execution_count": 15,
   "id": "cbabd095",
   "metadata": {
    "execution": {
     "iopub.execute_input": "2024-12-13T22:51:15.963103Z",
     "iopub.status.busy": "2024-12-13T22:51:15.962641Z",
     "iopub.status.idle": "2024-12-13T22:51:19.079934Z",
     "shell.execute_reply": "2024-12-13T22:51:19.078765Z"
    },
    "papermill": {
     "duration": 3.127891,
     "end_time": "2024-12-13T22:51:19.082237",
     "exception": false,
     "start_time": "2024-12-13T22:51:15.954346",
     "status": "completed"
    },
    "tags": []
   },
   "outputs": [
    {
     "name": "stdout",
     "output_type": "stream",
     "text": [
      "[0.10830132 0.01348686 0.08387914 0.29290865 0.13605593]\n",
      "[0.50891277 0.10285039 0.57599339 0.66126188 0.30703274]\n",
      "[0.49016778 0.19223702 0.68911938 0.75089035 0.35092058]\n",
      "[0.12549751 0.09192903 0.28816827 0.33431255 0.03747459]\n"
     ]
    }
   ],
   "source": [
    "from sklearn.ensemble import RandomForestRegressor\n",
    "for model in (SVR(), XGBRegressor(), RandomForestRegressor(), KNeighborsRegressor()):\n",
    "    print(cross_val_score(model, train_X_[:, sfs.support_], train_y, scoring=\"r2\"))"
   ]
  },
  {
   "cell_type": "code",
   "execution_count": 16,
   "id": "f5742d1e",
   "metadata": {
    "execution": {
     "iopub.execute_input": "2024-12-13T22:51:19.099446Z",
     "iopub.status.busy": "2024-12-13T22:51:19.098548Z",
     "iopub.status.idle": "2024-12-13T22:51:19.104425Z",
     "shell.execute_reply": "2024-12-13T22:51:19.103273Z"
    },
    "papermill": {
     "duration": 0.017,
     "end_time": "2024-12-13T22:51:19.106529",
     "exception": false,
     "start_time": "2024-12-13T22:51:19.089529",
     "status": "completed"
    },
    "tags": []
   },
   "outputs": [],
   "source": [
    "def image_preprocess(image):\n",
    "    image = np.array([image, image, image])\n",
    "    return ((image / 255.) - 0.126) / 0.201"
   ]
  },
  {
   "cell_type": "code",
   "execution_count": 17,
   "id": "461a9360",
   "metadata": {
    "execution": {
     "iopub.execute_input": "2024-12-13T22:51:19.124015Z",
     "iopub.status.busy": "2024-12-13T22:51:19.122713Z",
     "iopub.status.idle": "2024-12-13T22:51:20.488535Z",
     "shell.execute_reply": "2024-12-13T22:51:20.487368Z"
    },
    "papermill": {
     "duration": 1.377511,
     "end_time": "2024-12-13T22:51:20.491386",
     "exception": false,
     "start_time": "2024-12-13T22:51:19.113875",
     "status": "completed"
    },
    "tags": []
   },
   "outputs": [],
   "source": [
    "train_images_preprocessed = [image_preprocess(img) for img in train_images]"
   ]
  },
  {
   "cell_type": "code",
   "execution_count": 18,
   "id": "4ba00d4b",
   "metadata": {
    "execution": {
     "iopub.execute_input": "2024-12-13T22:51:20.506989Z",
     "iopub.status.busy": "2024-12-13T22:51:20.506607Z",
     "iopub.status.idle": "2024-12-13T22:55:09.741443Z",
     "shell.execute_reply": "2024-12-13T22:55:09.739118Z"
    },
    "papermill": {
     "duration": 229.247624,
     "end_time": "2024-12-13T22:55:09.746373",
     "exception": false,
     "start_time": "2024-12-13T22:51:20.498749",
     "status": "completed"
    },
    "tags": []
   },
   "outputs": [
    {
     "name": "stderr",
     "output_type": "stream",
     "text": [
      "Downloading: \"https://download.pytorch.org/models/resnet50-0676ba61.pth\" to /root/.cache/torch/hub/checkpoints/resnet50-0676ba61.pth\n",
      "100%|██████████| 97.8M/97.8M [00:00<00:00, 159MB/s]\n"
     ]
    }
   ],
   "source": [
    "import torch\n",
    "from torchvision.models import resnet50\n",
    "from torchvision.models.feature_extraction import create_feature_extractor\n",
    "\n",
    "\n",
    "model = resnet50(weights=\"IMAGENET1K_V1\")\n",
    "\n",
    "return_nodes = [\n",
    "    \"layer4\"\n",
    "    ]\n",
    "cnn_feats_extractor = create_feature_extractor(model, return_nodes=return_nodes)\n",
    "with torch.inference_mode():\n",
    "    intermediate_outputs = cnn_feats_extractor(torch.Tensor(np.array(train_images_preprocessed)))"
   ]
  },
  {
   "cell_type": "code",
   "execution_count": 19,
   "id": "3184b39d",
   "metadata": {
    "execution": {
     "iopub.execute_input": "2024-12-13T22:55:09.767957Z",
     "iopub.status.busy": "2024-12-13T22:55:09.766238Z",
     "iopub.status.idle": "2024-12-13T22:55:09.838405Z",
     "shell.execute_reply": "2024-12-13T22:55:09.837312Z"
    },
    "papermill": {
     "duration": 0.08491,
     "end_time": "2024-12-13T22:55:09.841295",
     "exception": false,
     "start_time": "2024-12-13T22:55:09.756385",
     "status": "completed"
    },
    "tags": []
   },
   "outputs": [],
   "source": [
    "train_cnn_feats = intermediate_outputs['layer4'].numpy().mean((2, 3))"
   ]
  },
  {
   "cell_type": "code",
   "execution_count": 20,
   "id": "2a8eebaa",
   "metadata": {
    "execution": {
     "iopub.execute_input": "2024-12-13T22:55:09.858947Z",
     "iopub.status.busy": "2024-12-13T22:55:09.858483Z",
     "iopub.status.idle": "2024-12-13T22:56:06.729294Z",
     "shell.execute_reply": "2024-12-13T22:56:06.727885Z"
    },
    "papermill": {
     "duration": 56.886299,
     "end_time": "2024-12-13T22:56:06.735367",
     "exception": false,
     "start_time": "2024-12-13T22:55:09.849068",
     "status": "completed"
    },
    "tags": []
   },
   "outputs": [
    {
     "name": "stdout",
     "output_type": "stream",
     "text": [
      "1 [0.76969302 0.22323418 0.7826507  0.78316694 0.31904024]\n",
      "3 [0.7776805  0.24523756 0.78149515 0.79351898 0.67496158]\n",
      "5 [0.77573879 0.2600931  0.71011923 0.81510972 0.56962662]\n",
      "8 [0.72224166 0.34994136 0.72506839 0.80759008 0.53242911]\n",
      "11 [0.69362736 0.39616147 0.70200555 0.80142453 0.50045035]\n",
      "15 [0.69575582 0.38734162 0.69279027 0.78164119 0.44695659]\n"
     ]
    }
   ],
   "source": [
    "for n in [1, 3, 5, 8, 11, 15]:\n",
    "    knr = KNeighborsRegressor(n)\n",
    "    print(n, cross_val_score(knr, np.array(train_images_raw).reshape(609, -1), train_y, scoring=\"r2\", cv=5))"
   ]
  },
  {
   "cell_type": "code",
   "execution_count": 21,
   "id": "913baf67",
   "metadata": {
    "execution": {
     "iopub.execute_input": "2024-12-13T22:56:06.783928Z",
     "iopub.status.busy": "2024-12-13T22:56:06.783224Z",
     "iopub.status.idle": "2024-12-13T22:56:06.867400Z",
     "shell.execute_reply": "2024-12-13T22:56:06.866169Z"
    },
    "papermill": {
     "duration": 0.112054,
     "end_time": "2024-12-13T22:56:06.869877",
     "exception": false,
     "start_time": "2024-12-13T22:56:06.757823",
     "status": "completed"
    },
    "tags": []
   },
   "outputs": [],
   "source": [
    "train_images_raw = np.array(train_images_raw)"
   ]
  },
  {
   "cell_type": "code",
   "execution_count": 22,
   "id": "e7a4aa1e",
   "metadata": {
    "execution": {
     "iopub.execute_input": "2024-12-13T22:56:06.887028Z",
     "iopub.status.busy": "2024-12-13T22:56:06.886672Z",
     "iopub.status.idle": "2024-12-13T22:58:09.429998Z",
     "shell.execute_reply": "2024-12-13T22:58:09.428725Z"
    },
    "papermill": {
     "duration": 122.555263,
     "end_time": "2024-12-13T22:58:09.432813",
     "exception": false,
     "start_time": "2024-12-13T22:56:06.877550",
     "status": "completed"
    },
    "tags": []
   },
   "outputs": [
    {
     "name": "stdout",
     "output_type": "stream",
     "text": [
      "2\n",
      "[ 0.1530625  -0.08385636  0.16800747  0.19818772  0.23586218]\n",
      "[0.24066072 0.01331015 0.14434639 0.42514518 0.250624  ]\n",
      "[0.29576637 0.08030369 0.26576615 0.43770099 0.21496945]\n",
      "[0.27196497 0.02673973 0.25267268 0.43876753 0.31250084]\n",
      "4\n",
      "[ 0.29275067 -0.06449239  0.20819413  0.43378426  0.247062  ]\n",
      "[0.68004864 0.10773839 0.51636225 0.70981708 0.45447943]\n",
      "[0.5657225  0.20741928 0.52490246 0.71483024 0.32698386]\n",
      "[0.68066638 0.21945233 0.68451966 0.77987177 0.43561142]\n",
      "8\n",
      "[ 0.61318298 -0.53061409  0.5084511   0.65465601  0.40354231]\n",
      "[0.78066419 0.28742298 0.66732716 0.83271408 0.55266067]\n",
      "[0.674487   0.40473596 0.71146676 0.82951946 0.53049612]\n",
      "[0.68156479 0.27489694 0.66447266 0.83957371 0.54650874]\n",
      "16\n",
      "[0.70487189 0.05470502 0.5805823  0.68516961 0.42975995]\n",
      "[0.73526525 0.38603133 0.68793149 0.80727891 0.57729592]\n",
      "[0.72231859 0.47901914 0.74889478 0.81885665 0.56209389]\n",
      "[0.77934763 0.34811759 0.75734895 0.83997947 0.6439888 ]\n",
      "32\n",
      "[ 0.75501311 -0.32492338  0.58124925  0.75464279  0.49662169]\n",
      "[0.75721586 0.28163595 0.70226894 0.81587528 0.57145645]\n",
      "[0.74383984 0.52029871 0.77870665 0.849172   0.59242125]\n",
      "[0.81821114 0.36604655 0.78659458 0.86228999 0.62981086]\n",
      "64\n",
      "[  0.61287271 -10.0652903    0.6079701    0.7670576    0.50822495]\n",
      "[0.77963581 0.28132263 0.70797468 0.81685525 0.56957733]\n",
      "[0.74109476 0.52203256 0.78511373 0.85821081 0.60632163]\n",
      "[0.78889021 0.39458313 0.77405594 0.84340368 0.66309355]\n"
     ]
    }
   ],
   "source": [
    "for num_comps in [2, 4, 8, 16, 32, 64]:\n",
    "    print(num_comps)\n",
    "    pca = PCA(num_comps).fit(train_images_raw.reshape(609, -1))\n",
    "    train_X_ = pca.transform(train_images_raw.reshape(609, -1))\n",
    "    for model_ in (LinearRegression(), KNeighborsRegressor(), SVR(), RandomForestRegressor()):\n",
    "        print(cross_val_score(model_, train_X_, train_y, scoring=\"r2\"))"
   ]
  },
  {
   "cell_type": "code",
   "execution_count": 23,
   "id": "bb1f8439",
   "metadata": {
    "execution": {
     "iopub.execute_input": "2024-12-13T22:58:09.453262Z",
     "iopub.status.busy": "2024-12-13T22:58:09.452805Z",
     "iopub.status.idle": "2024-12-13T22:58:56.160278Z",
     "shell.execute_reply": "2024-12-13T22:58:56.159011Z"
    },
    "papermill": {
     "duration": 46.721351,
     "end_time": "2024-12-13T22:58:56.163246",
     "exception": false,
     "start_time": "2024-12-13T22:58:09.441895",
     "status": "completed"
    },
    "tags": []
   },
   "outputs": [
    {
     "name": "stderr",
     "output_type": "stream",
     "text": [
      "/opt/conda/lib/python3.10/site-packages/sklearn/decomposition/_fastica.py:542: FutureWarning: Starting in v1.3, whiten='unit-variance' will be used by default.\n",
      "  warnings.warn(\n"
     ]
    }
   ],
   "source": [
    "train_images_flatten, test_images_flatten = train_images_raw.reshape(609, -1), test_images.reshape(260, -1)\n",
    "test_preds = []\n",
    "pca = FastICA(16).fit(train_images_flatten)\n",
    "train_X_, test_X_ = pca.transform(train_images_flatten), pca.transform(test_images_flatten)\n",
    "model = SVR().fit(train_X_, train_y)\n",
    "test_preds.append(model.predict(test_X_))\n",
    "\n",
    "pca = KernelPCA(32).fit(train_images_flatten)\n",
    "train_X_, test_X_ = pca.transform(train_images_flatten), pca.transform(test_images_flatten)\n",
    "model = RandomForestRegressor().fit(train_X_, train_y)\n",
    "test_preds.append(model.predict(test_X_))\n"
   ]
  },
  {
   "cell_type": "code",
   "execution_count": 24,
   "id": "5ca17047",
   "metadata": {
    "execution": {
     "iopub.execute_input": "2024-12-13T22:58:56.183017Z",
     "iopub.status.busy": "2024-12-13T22:58:56.181978Z",
     "iopub.status.idle": "2024-12-13T22:58:56.194083Z",
     "shell.execute_reply": "2024-12-13T22:58:56.192564Z"
    },
    "papermill": {
     "duration": 0.024276,
     "end_time": "2024-12-13T22:58:56.196413",
     "exception": false,
     "start_time": "2024-12-13T22:58:56.172137",
     "status": "completed"
    },
    "tags": []
   },
   "outputs": [
    {
     "data": {
      "text/plain": [
       "array([7.52047035, 7.65557529, 8.6090596 , 8.39419779, 8.10068662,\n",
       "       8.71852936, 8.81788353, 8.74446656, 8.78410227, 8.81071331,\n",
       "       8.76249618, 7.95584919, 6.89764967, 8.98719227, 7.62471505,\n",
       "       8.76440747, 8.98496448, 9.02797886, 7.05933257, 8.63984791,\n",
       "       7.57810816, 8.89832732, 8.25140548, 9.06191341, 8.65446637,\n",
       "       9.0032927 , 7.53873268, 7.27300487, 8.73297436, 8.09055616,\n",
       "       7.45927478, 7.8106881 , 7.57950961, 8.99885108, 8.80449421,\n",
       "       8.72455921, 7.7471516 , 9.09136654, 7.35794542, 7.09588413,\n",
       "       9.07170766, 7.24391254, 9.266258  , 7.17984918, 8.58938118,\n",
       "       8.95155961, 8.94773522, 6.10713884, 8.35162276, 7.35472152,\n",
       "       9.11651581, 8.65195968, 8.93449506, 7.84164554, 7.73971743,\n",
       "       7.45735044, 8.80821013, 7.72544848, 9.00968869, 7.72769014,\n",
       "       7.68354475, 8.87211964, 9.15885462, 7.33366613, 8.79315326,\n",
       "       7.70163246, 8.6789409 , 7.32482349, 7.16952148, 7.36665337,\n",
       "       8.78463655, 8.18049013, 9.06500231, 8.66029762, 7.23434786,\n",
       "       7.85618171, 9.17464231, 7.61324999, 7.36663056, 8.93338863,\n",
       "       6.99713083, 8.94451223, 7.91285921, 7.39046169, 8.15832863,\n",
       "       7.68110418, 8.82808408, 7.38267647, 8.8033129 , 8.5550093 ,\n",
       "       7.1020193 , 7.61597271, 7.30596379, 7.9617549 , 7.58171249,\n",
       "       8.34608615, 9.02682955, 8.22340541, 8.75389285, 8.61445309,\n",
       "       7.24330379, 8.9670478 , 7.02000945, 7.73008358, 7.23685802,\n",
       "       8.80601495, 7.54526431, 8.96741281, 7.2766016 , 8.77550829,\n",
       "       8.10066902, 9.13930918, 8.5758139 , 7.04824729, 8.77865545,\n",
       "       7.2598327 , 9.25332122, 8.40096962, 8.60452855, 8.49434413,\n",
       "       7.99529323, 7.59502533, 8.79305978, 6.99185601, 8.24343654,\n",
       "       9.10161742, 8.89908006, 8.71030073, 8.7549839 , 8.985304  ,\n",
       "       7.15095214, 8.92762081, 7.11691018, 8.61572705, 8.89812352,\n",
       "       8.80964981, 7.329033  , 7.25294788, 8.15650946, 8.91969966,\n",
       "       9.00901809, 8.61772898, 9.0989357 , 8.26786468, 7.21274678,\n",
       "       8.54882176, 7.24918337, 7.77241983, 7.62716203, 7.71202746,\n",
       "       9.10878487, 8.69818193, 7.31072349, 8.73721064, 8.47692772,\n",
       "       7.26055519, 7.32497775, 9.03092797, 8.88411065, 8.57744582,\n",
       "       8.99107114, 9.21013431, 9.10444084, 8.42226485, 7.32978924,\n",
       "       8.56067206, 8.81247576, 7.63497337, 7.09908642, 9.15562532,\n",
       "       8.99284446, 7.67329309, 7.00121034, 8.77167327, 7.03750557,\n",
       "       6.65257677, 7.17554312, 9.2085211 , 7.81542669, 8.99190735,\n",
       "       9.22405223, 8.85220284, 9.16742881, 7.44484654, 7.2709652 ,\n",
       "       8.77984795, 7.10967195, 7.59956814, 8.77701004, 8.85293379,\n",
       "       7.22511102, 8.80077767, 8.9284557 , 9.01813015, 9.01069069,\n",
       "       7.7599698 , 7.60261816, 7.32673279, 7.51966566, 8.68124306,\n",
       "       8.4052128 , 8.10067202, 9.13047689, 9.04084148, 8.80866727,\n",
       "       8.904429  , 8.79541545, 8.73923442, 9.03813877, 8.95112866,\n",
       "       7.10198012, 9.14251797, 8.47703685, 9.59330502, 7.51156178,\n",
       "       9.05707236, 8.40818829, 9.08038274, 9.222183  , 9.15293699,\n",
       "       6.87134707, 8.75506106, 9.00105276, 7.97221752, 8.88785739,\n",
       "       8.80830035, 7.12589829, 7.43822534, 8.91507018, 8.31648055,\n",
       "       8.6774345 , 8.85339465, 8.65571373, 9.19980997, 8.43525713,\n",
       "       7.61842874, 7.59744138, 8.95253634, 7.66499918, 9.00918236,\n",
       "       8.34637268, 8.60914792, 9.02436263, 8.85048238, 7.72255567,\n",
       "       9.00373542, 8.84605275, 8.65509962, 8.73524734, 7.6661169 ,\n",
       "       8.59451932, 7.61331202, 7.28596568, 7.69775587, 8.65258702,\n",
       "       8.69484424, 7.25127043, 7.80277287, 7.46210756, 7.66704186])"
      ]
     },
     "execution_count": 24,
     "metadata": {},
     "output_type": "execute_result"
    }
   ],
   "source": [
    "test_preds[0]"
   ]
  },
  {
   "cell_type": "code",
   "execution_count": 25,
   "id": "337eb397",
   "metadata": {
    "execution": {
     "iopub.execute_input": "2024-12-13T22:58:56.217520Z",
     "iopub.status.busy": "2024-12-13T22:58:56.216327Z",
     "iopub.status.idle": "2024-12-13T22:58:56.264203Z",
     "shell.execute_reply": "2024-12-13T22:58:56.263064Z"
    },
    "papermill": {
     "duration": 0.061319,
     "end_time": "2024-12-13T22:58:56.266989",
     "exception": false,
     "start_time": "2024-12-13T22:58:56.205670",
     "status": "completed"
    },
    "tags": []
   },
   "outputs": [],
   "source": [
    "pd.DataFrame({'shot_id': list(range(260)),\n",
    "              'plasma_volume': test_preds[0]\n",
    "             }).to_csv('ica_svr_volume.csv', index=False)\n",
    "pd.DataFrame({'shot_id': list(range(260)),\n",
    "              'plasma_volume': test_preds[1]\n",
    "             }).to_csv('pca_rf_volume.csv', index=False)\n",
    "pd.DataFrame({'shot_id': list(range(260)),\n",
    "              'plasma_volume': np.mean(test_preds, 0)\n",
    "             }).to_csv('mean_volume.csv', index=False)\n"
   ]
  },
  {
   "cell_type": "code",
   "execution_count": 26,
   "id": "301271cf",
   "metadata": {
    "execution": {
     "iopub.execute_input": "2024-12-13T22:58:56.288121Z",
     "iopub.status.busy": "2024-12-13T22:58:56.287714Z",
     "iopub.status.idle": "2024-12-13T22:58:56.295917Z",
     "shell.execute_reply": "2024-12-13T22:58:56.294599Z"
    },
    "papermill": {
     "duration": 0.021232,
     "end_time": "2024-12-13T22:58:56.298119",
     "exception": false,
     "start_time": "2024-12-13T22:58:56.276887",
     "status": "completed"
    },
    "tags": []
   },
   "outputs": [
    {
     "data": {
      "text/html": [
       "<a href='pca_rf_volume.csv' target='_blank'>pca_rf_volume.csv</a><br>"
      ],
      "text/plain": [
       "/kaggle/working/pca_rf_volume.csv"
      ]
     },
     "execution_count": 26,
     "metadata": {},
     "output_type": "execute_result"
    }
   ],
   "source": [
    "from IPython.display import FileLink\n",
    "FileLink('pca_rf_volume.csv')"
   ]
  },
  {
   "cell_type": "code",
   "execution_count": 27,
   "id": "3f50c633",
   "metadata": {
    "execution": {
     "iopub.execute_input": "2024-12-13T22:58:56.318268Z",
     "iopub.status.busy": "2024-12-13T22:58:56.317836Z",
     "iopub.status.idle": "2024-12-13T23:02:46.339409Z",
     "shell.execute_reply": "2024-12-13T23:02:46.336890Z"
    },
    "papermill": {
     "duration": 230.038371,
     "end_time": "2024-12-13T23:02:46.345448",
     "exception": false,
     "start_time": "2024-12-13T22:58:56.307077",
     "status": "completed"
    },
    "tags": []
   },
   "outputs": [
    {
     "name": "stdout",
     "output_type": "stream",
     "text": [
      "2\n"
     ]
    },
    {
     "name": "stderr",
     "output_type": "stream",
     "text": [
      "/opt/conda/lib/python3.10/site-packages/sklearn/decomposition/_fastica.py:542: FutureWarning: Starting in v1.3, whiten='unit-variance' will be used by default.\n",
      "  warnings.warn(\n"
     ]
    },
    {
     "name": "stdout",
     "output_type": "stream",
     "text": [
      "[ 0.1530625  -0.08385636  0.16800747  0.19818772  0.23586218]\n",
      "[0.25981622 0.00119024 0.17257201 0.39991882 0.27117907]\n",
      "[0.36907928 0.13062075 0.24037983 0.51261759 0.26503418]\n",
      "[0.18190501 0.03368947 0.25375475 0.52290984 0.20376765]\n",
      "4\n"
     ]
    },
    {
     "name": "stderr",
     "output_type": "stream",
     "text": [
      "/opt/conda/lib/python3.10/site-packages/sklearn/decomposition/_fastica.py:542: FutureWarning: Starting in v1.3, whiten='unit-variance' will be used by default.\n",
      "  warnings.warn(\n"
     ]
    },
    {
     "name": "stdout",
     "output_type": "stream",
     "text": [
      "[ 0.29275067 -0.06449239  0.20819413  0.43378426  0.247062  ]\n",
      "[0.67104447 0.12253314 0.59662415 0.68961651 0.54218201]\n",
      "[0.63599512 0.26512909 0.60751522 0.75242571 0.38169139]\n",
      "[ 0.70874073 -0.06022756  0.53231567  0.70162682  0.55557059]\n",
      "8\n"
     ]
    },
    {
     "name": "stderr",
     "output_type": "stream",
     "text": [
      "/opt/conda/lib/python3.10/site-packages/sklearn/decomposition/_fastica.py:542: FutureWarning: Starting in v1.3, whiten='unit-variance' will be used by default.\n",
      "  warnings.warn(\n"
     ]
    },
    {
     "name": "stdout",
     "output_type": "stream",
     "text": [
      "[ 0.61318308 -0.53061802  0.50845108  0.65465602  0.40354244]\n",
      "[0.75513023 0.21310832 0.74831908 0.85609115 0.58019765]\n",
      "[0.7368391  0.51313059 0.76124887 0.85106661 0.54957194]\n",
      "[0.65072391 0.40986224 0.79282354 0.86431406 0.4572904 ]\n",
      "16\n"
     ]
    },
    {
     "name": "stderr",
     "output_type": "stream",
     "text": [
      "/opt/conda/lib/python3.10/site-packages/sklearn/decomposition/_fastica.py:542: FutureWarning: Starting in v1.3, whiten='unit-variance' will be used by default.\n",
      "  warnings.warn(\n"
     ]
    },
    {
     "name": "stdout",
     "output_type": "stream",
     "text": [
      "[0.70486921 0.05173659 0.58057833 0.68522861 0.42960461]\n",
      "[0.83345135 0.43096192 0.78347249 0.86324118 0.57438473]\n",
      "[0.7215442  0.59736133 0.79110306 0.84233924 0.58075271]\n",
      "[0.6451695  0.44937714 0.78251229 0.81743744 0.53953357]\n",
      "32\n"
     ]
    },
    {
     "name": "stderr",
     "output_type": "stream",
     "text": [
      "/opt/conda/lib/python3.10/site-packages/sklearn/decomposition/_fastica.py:542: FutureWarning: Starting in v1.3, whiten='unit-variance' will be used by default.\n",
      "  warnings.warn(\n"
     ]
    },
    {
     "name": "stdout",
     "output_type": "stream",
     "text": [
      "[ 0.75464618 -0.32069362  0.58100425  0.75463995  0.4968593 ]\n",
      "[0.83793053 0.28143602 0.75787456 0.88590109 0.47252791]\n",
      "[0.6827727  0.44581287 0.79602741 0.8607657  0.48987253]\n",
      "[0.79093065 0.48282776 0.77255531 0.64574022 0.47025145]\n",
      "64\n"
     ]
    },
    {
     "name": "stderr",
     "output_type": "stream",
     "text": [
      "/opt/conda/lib/python3.10/site-packages/sklearn/decomposition/_fastica.py:542: FutureWarning: Starting in v1.3, whiten='unit-variance' will be used by default.\n",
      "  warnings.warn(\n"
     ]
    },
    {
     "name": "stdout",
     "output_type": "stream",
     "text": [
      "[ 0.43375316 -7.31020291  0.58793926  0.76609472  0.50748991]\n",
      "[0.68866942 0.18101709 0.73576198 0.87824344 0.50796424]\n",
      "[0.63493319 0.40297877 0.77634622 0.84978878 0.48717719]\n",
      "[0.54950792 0.20566345 0.59116895 0.52202796 0.39598447]\n"
     ]
    }
   ],
   "source": [
    "# Champ: num_comp=16, model=SVR()\n",
    "for num_comps in [2, 4, 8, 16, 32, 64]:\n",
    "    print(num_comps)\n",
    "    pca = FastICA(num_comps).fit(train_images_raw.reshape(609, -1))\n",
    "    train_X_ = pca.transform(train_images_raw.reshape(609, -1))\n",
    "    for model_ in (LinearRegression(), KNeighborsRegressor(), SVR(), RandomForestRegressor()):\n",
    "        print(cross_val_score(model_, train_X_, train_y, scoring=\"r2\"))"
   ]
  },
  {
   "cell_type": "code",
   "execution_count": 28,
   "id": "1473bddf",
   "metadata": {
    "execution": {
     "iopub.execute_input": "2024-12-13T23:02:46.411707Z",
     "iopub.status.busy": "2024-12-13T23:02:46.411301Z",
     "iopub.status.idle": "2024-12-13T23:04:22.783955Z",
     "shell.execute_reply": "2024-12-13T23:04:22.782509Z"
    },
    "papermill": {
     "duration": 96.408587,
     "end_time": "2024-12-13T23:04:22.786288",
     "exception": false,
     "start_time": "2024-12-13T23:02:46.377701",
     "status": "completed"
    },
    "tags": []
   },
   "outputs": [
    {
     "name": "stdout",
     "output_type": "stream",
     "text": [
      "2\n",
      "[ 0.1530625  -0.08385636  0.16800747  0.19818772  0.23586218]\n",
      "[0.24066072 0.01331015 0.14434639 0.42514518 0.250624  ]\n",
      "[0.29572797 0.08030369 0.26576615 0.43770099 0.21496945]\n",
      "[0.28841889 0.02912537 0.2018356  0.4087928  0.3113741 ]\n",
      "4\n",
      "[ 0.29275067 -0.06449239  0.20819413  0.43378426  0.247062  ]\n",
      "[0.68004864 0.10773839 0.51636225 0.70981708 0.45447943]\n",
      "[0.56572252 0.20741928 0.52490245 0.71484875 0.32698385]\n",
      "[0.6808329  0.21926585 0.66980803 0.77944296 0.41577417]\n",
      "8\n",
      "[ 0.61318308 -0.53061802  0.50845108  0.65465602  0.40354244]\n",
      "[0.78066419 0.28742298 0.66732716 0.83271408 0.55266067]\n",
      "[0.674452   0.40472531 0.71146676 0.82951956 0.53052131]\n",
      "[0.72941177 0.31972248 0.71335976 0.8463862  0.56456497]\n",
      "16\n",
      "[0.70486921 0.05173659 0.58057833 0.68522861 0.42960461]\n",
      "[0.73526525 0.38603133 0.68793149 0.80727891 0.57721039]\n",
      "[0.72241537 0.47901121 0.74885825 0.81881613 0.56221385]\n",
      "[0.77905686 0.40058556 0.75737179 0.8361189  0.62314559]\n",
      "32\n",
      "[ 0.75464618 -0.32069362  0.58100425  0.75463995  0.4968593 ]\n",
      "[0.75721586 0.28163595 0.70226891 0.81587528 0.57145645]\n",
      "[0.74388757 0.52019845 0.77871652 0.84920444 0.59245701]\n",
      "[0.78347487 0.34246508 0.77877703 0.86107876 0.63323044]\n",
      "64\n",
      "[ 0.43375316 -7.31020291  0.58793926  0.76609472  0.50748991]\n",
      "[0.77772272 0.28076504 0.70733188 0.8168475  0.57184782]\n",
      "[0.7405207  0.5236594  0.78567658 0.85905923 0.60610572]\n",
      "[0.79886964 0.37517178 0.76413965 0.84017624 0.65821249]\n"
     ]
    }
   ],
   "source": [
    "# Champ: num_comps=32, model = RandomForestRegressor()\n",
    "from sklearn.decomposition import KernelPCA\n",
    "for num_comps in [2, 4, 8, 16, 32, 64]:\n",
    "    print(num_comps)\n",
    "    pca = KernelPCA(num_comps).fit(train_images_raw.reshape(609, -1))\n",
    "    train_X_ = pca.transform(train_images_raw.reshape(609, -1))\n",
    "    for model_ in (LinearRegression(), KNeighborsRegressor(), SVR(), RandomForestRegressor()):\n",
    "        print(cross_val_score(model_, train_X_, train_y, scoring=\"r2\"))"
   ]
  },
  {
   "cell_type": "code",
   "execution_count": 29,
   "id": "53906258",
   "metadata": {
    "execution": {
     "iopub.execute_input": "2024-12-13T23:04:22.810373Z",
     "iopub.status.busy": "2024-12-13T23:04:22.809405Z",
     "iopub.status.idle": "2024-12-13T23:11:09.722171Z",
     "shell.execute_reply": "2024-12-13T23:11:09.720967Z"
    },
    "papermill": {
     "duration": 406.940121,
     "end_time": "2024-12-13T23:11:09.736853",
     "exception": false,
     "start_time": "2024-12-13T23:04:22.796732",
     "status": "completed"
    },
    "tags": []
   },
   "outputs": [
    {
     "name": "stdout",
     "output_type": "stream",
     "text": [
      "[0.5519821  0.31664282 0.63083604 0.70596369 0.3104576 ]\n",
      "[0.38250609 0.0298751  0.35386261 0.67539642 0.3272993 ]\n",
      "[0.39753388 0.29844707 0.50498519 0.66373812 0.33725037]\n",
      "[0.61106453 0.29598313 0.62811468 0.73938629 0.30108352]\n"
     ]
    }
   ],
   "source": [
    "for model in (SVR(), XGBRegressor(), RandomForestRegressor(), KNeighborsRegressor()):\n",
    "    print(cross_val_score(model, train_cnn_feats.reshape(609, -1), train_y, scoring=\"r2\"))"
   ]
  },
  {
   "cell_type": "code",
   "execution_count": null,
   "id": "25aa9457",
   "metadata": {
    "papermill": {
     "duration": 0.011407,
     "end_time": "2024-12-13T23:11:09.759575",
     "exception": false,
     "start_time": "2024-12-13T23:11:09.748168",
     "status": "completed"
    },
    "tags": []
   },
   "outputs": [],
   "source": []
  }
 ],
 "metadata": {
  "kaggle": {
   "accelerator": "none",
   "dataSources": [
    {
     "databundleVersionId": 10325018,
     "sourceId": 89480,
     "sourceType": "competition"
    }
   ],
   "dockerImageVersionId": 30804,
   "isGpuEnabled": false,
   "isInternetEnabled": true,
   "language": "python",
   "sourceType": "notebook"
  },
  "kernelspec": {
   "display_name": "Python 3",
   "language": "python",
   "name": "python3"
  },
  "language_info": {
   "codemirror_mode": {
    "name": "ipython",
    "version": 3
   },
   "file_extension": ".py",
   "mimetype": "text/x-python",
   "name": "python",
   "nbconvert_exporter": "python",
   "pygments_lexer": "ipython3",
   "version": "3.10.14"
  },
  "papermill": {
   "default_parameters": {},
   "duration": 1534.27766,
   "end_time": "2024-12-13T23:11:13.095396",
   "environment_variables": {},
   "exception": null,
   "input_path": "__notebook__.ipynb",
   "output_path": "__notebook__.ipynb",
   "parameters": {},
   "start_time": "2024-12-13T22:45:38.817736",
   "version": "2.6.0"
  }
 },
 "nbformat": 4,
 "nbformat_minor": 5
}
